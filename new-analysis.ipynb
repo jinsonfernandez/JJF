{
 "cells": [
  {
   "cell_type": "code",
   "execution_count": 2,
   "metadata": {
    "collapsed": true
   },
   "outputs": [],
   "source": [
    "import pandas as pd\n",
    "from nltk.corpus import stopwords\n",
    "from nltk.tokenize import word_tokenize\n",
    "import re"
   ]
  },
  {
   "cell_type": "code",
   "execution_count": 3,
   "metadata": {
    "collapsed": false
   },
   "outputs": [
    {
     "data": {
      "text/html": [
       "<div>\n",
       "<table border=\"1\" class=\"dataframe\">\n",
       "  <thead>\n",
       "    <tr style=\"text-align: right;\">\n",
       "      <th></th>\n",
       "      <th>Unnamed: 0</th>\n",
       "      <th>Tweets</th>\n",
       "      <th>count</th>\n",
       "      <th>Polarity</th>\n",
       "    </tr>\n",
       "  </thead>\n",
       "  <tbody>\n",
       "    <tr>\n",
       "      <th>0</th>\n",
       "      <td>0.0</td>\n",
       "      <td>('Reliance', 'Jio')</td>\n",
       "      <td>4543.0</td>\n",
       "      <td>nutreal</td>\n",
       "    </tr>\n",
       "    <tr>\n",
       "      <th>1</th>\n",
       "      <td>1.0</td>\n",
       "      <td>('twitter', 'com')</td>\n",
       "      <td>3725.0</td>\n",
       "      <td>nutreal</td>\n",
       "    </tr>\n",
       "    <tr>\n",
       "      <th>2</th>\n",
       "      <td>2.0</td>\n",
       "      <td>('pic', 'twitter')</td>\n",
       "      <td>2904.0</td>\n",
       "      <td>nutreal</td>\n",
       "    </tr>\n",
       "    <tr>\n",
       "      <th>3</th>\n",
       "      <td>3.0</td>\n",
       "      <td>('jio', 'sim')</td>\n",
       "      <td>2437.0</td>\n",
       "      <td>nutreal</td>\n",
       "    </tr>\n",
       "    <tr>\n",
       "      <th>4</th>\n",
       "      <td>4.0</td>\n",
       "      <td>('http', 'www')</td>\n",
       "      <td>1727.0</td>\n",
       "      <td>nutreal</td>\n",
       "    </tr>\n",
       "  </tbody>\n",
       "</table>\n",
       "</div>"
      ],
      "text/plain": [
       "   Unnamed: 0               Tweets   count Polarity\n",
       "0         0.0  ('Reliance', 'Jio')  4543.0  nutreal\n",
       "1         1.0   ('twitter', 'com')  3725.0  nutreal\n",
       "2         2.0   ('pic', 'twitter')  2904.0  nutreal\n",
       "3         3.0       ('jio', 'sim')  2437.0  nutreal\n",
       "4         4.0      ('http', 'www')  1727.0  nutreal"
      ]
     },
     "execution_count": 3,
     "metadata": {},
     "output_type": "execute_result"
    }
   ],
   "source": [
    "new_bigram=pd.read_csv('C:\\\\Users\\\\acer\\\\Desktop\\\\twiter mood analysis\\\\Bigram_with_polarity (1).csv')\n",
    "new_bigram.head()"
   ]
  },
  {
   "cell_type": "code",
   "execution_count": 55,
   "metadata": {
    "collapsed": false,
    "scrolled": false
   },
   "outputs": [
    {
     "name": "stdout",
     "output_type": "stream",
     "text": [
      "Requirement already satisfied (use --upgrade to upgrade): TextBlob in c:\\users\\acer\\anaconda3\\lib\\site-packages\n",
      "Requirement already satisfied (use --upgrade to upgrade): nltk>=3.1 in c:\\users\\acer\\anaconda3\\lib\\site-packages (from TextBlob)\n"
     ]
    },
    {
     "name": "stderr",
     "output_type": "stream",
     "text": [
      "You are using pip version 8.1.2, however version 9.0.1 is available.\n",
      "You should consider upgrading via the 'python -m pip install --upgrade pip' command.\n"
     ]
    }
   ],
   "source": [
    "!pip install TextBlob"
   ]
  },
  {
   "cell_type": "code",
   "execution_count": 4,
   "metadata": {
    "collapsed": true
   },
   "outputs": [],
   "source": [
    "from textblob import TextBlob\n"
   ]
  },
  {
   "cell_type": "code",
   "execution_count": 5,
   "metadata": {
    "collapsed": true
   },
   "outputs": [],
   "source": [
    "def get_Tweet_Sentiment(new_bigram):\n",
    "    analysis= TextBlob(new_bigram)\n",
    "    if analysis.sentiment.polarity>0:\n",
    "        return \"Positive\"\n",
    "    elif analysis.sentiment.polarity==0:\n",
    "        return \"Nutral\"\n",
    "    else:\n",
    "        return \"Negative\""
   ]
  },
  {
   "cell_type": "code",
   "execution_count": 13,
   "metadata": {
    "collapsed": false
   },
   "outputs": [],
   "source": [
    "import matplotlib as mpl\n",
    "import matplotlib.pyplot as plt\n",
    "import datetime\n",
    "from matplotlib.dates import date2num\n",
    "\n",
    "%matplotlib inline\n"
   ]
  },
  {
   "cell_type": "code",
   "execution_count": 12,
   "metadata": {
    "collapsed": false
   },
   "outputs": [
    {
     "name": "stdout",
     "output_type": "stream",
     "text": [
      "Collecting seaborn\n",
      "  Downloading seaborn-0.7.1.tar.gz (158kB)\n",
      "Building wheels for collected packages: seaborn\n",
      "  Running setup.py bdist_wheel for seaborn: started\n",
      "  Running setup.py bdist_wheel for seaborn: finished with status 'done'\n",
      "  Stored in directory: C:\\Users\\acer\\AppData\\Local\\pip\\Cache\\wheels\\cb\\c8\\67\\83d615c0ef9b529558525aa521025b183de8c5b156799b091e\n",
      "Successfully built seaborn\n",
      "Installing collected packages: seaborn\n",
      "Successfully installed seaborn-0.7.1\n"
     ]
    },
    {
     "name": "stderr",
     "output_type": "stream",
     "text": [
      "You are using pip version 8.1.2, however version 9.0.1 is available.\n",
      "You should consider upgrading via the 'python -m pip install --upgrade pip' command.\n"
     ]
    }
   ],
   "source": [
    "!pip install seaborn"
   ]
  },
  {
   "cell_type": "code",
   "execution_count": 14,
   "metadata": {
    "collapsed": true
   },
   "outputs": [],
   "source": [
    "import seaborn as sns\n",
    "sns.set(style=\"whitegrid\", color_codes=True)"
   ]
  },
  {
   "cell_type": "code",
   "execution_count": 15,
   "metadata": {
    "collapsed": false
   },
   "outputs": [
    {
     "data": {
      "text/html": [
       "<div>\n",
       "<table border=\"1\" class=\"dataframe\">\n",
       "  <thead>\n",
       "    <tr style=\"text-align: right;\">\n",
       "      <th></th>\n",
       "      <th>count</th>\n",
       "      <th>Polarity</th>\n",
       "    </tr>\n",
       "  </thead>\n",
       "  <tbody>\n",
       "    <tr>\n",
       "      <th>0</th>\n",
       "      <td>4543.0</td>\n",
       "      <td>nutreal</td>\n",
       "    </tr>\n",
       "    <tr>\n",
       "      <th>1</th>\n",
       "      <td>3725.0</td>\n",
       "      <td>nutreal</td>\n",
       "    </tr>\n",
       "    <tr>\n",
       "      <th>2</th>\n",
       "      <td>2904.0</td>\n",
       "      <td>nutreal</td>\n",
       "    </tr>\n",
       "    <tr>\n",
       "      <th>3</th>\n",
       "      <td>2437.0</td>\n",
       "      <td>nutreal</td>\n",
       "    </tr>\n",
       "    <tr>\n",
       "      <th>4</th>\n",
       "      <td>1727.0</td>\n",
       "      <td>nutreal</td>\n",
       "    </tr>\n",
       "  </tbody>\n",
       "</table>\n",
       "</div>"
      ],
      "text/plain": [
       "    count Polarity\n",
       "0  4543.0  nutreal\n",
       "1  3725.0  nutreal\n",
       "2  2904.0  nutreal\n",
       "3  2437.0  nutreal\n",
       "4  1727.0  nutreal"
      ]
     },
     "execution_count": 15,
     "metadata": {},
     "output_type": "execute_result"
    }
   ],
   "source": [
    "edited_bigram = new_bigram.iloc[:,2:4]\n",
    "edited_bigram.head()\n"
   ]
  },
  {
   "cell_type": "code",
   "execution_count": 16,
   "metadata": {
    "collapsed": false
   },
   "outputs": [
    {
     "data": {
      "text/html": [
       "<div>\n",
       "<table border=\"1\" class=\"dataframe\">\n",
       "  <thead>\n",
       "    <tr style=\"text-align: right;\">\n",
       "      <th></th>\n",
       "      <th>count</th>\n",
       "    </tr>\n",
       "    <tr>\n",
       "      <th>Polarity</th>\n",
       "      <th></th>\n",
       "    </tr>\n",
       "  </thead>\n",
       "  <tbody>\n",
       "    <tr>\n",
       "      <th>negative</th>\n",
       "      <td>106</td>\n",
       "    </tr>\n",
       "    <tr>\n",
       "      <th>nutreal</th>\n",
       "      <td>746</td>\n",
       "    </tr>\n",
       "    <tr>\n",
       "      <th>positive</th>\n",
       "      <td>185</td>\n",
       "    </tr>\n",
       "  </tbody>\n",
       "</table>\n",
       "</div>"
      ],
      "text/plain": [
       "          count\n",
       "Polarity       \n",
       "negative    106\n",
       "nutreal     746\n",
       "positive    185"
      ]
     },
     "execution_count": 16,
     "metadata": {},
     "output_type": "execute_result"
    }
   ],
   "source": [
    "graph_bigram=edited_bigram.groupby(['Polarity']).count()\n",
    "graph_bigram.head()"
   ]
  },
  {
   "cell_type": "code",
   "execution_count": 81,
   "metadata": {
    "collapsed": false
   },
   "outputs": [],
   "source": []
  },
  {
   "cell_type": "code",
   "execution_count": 18,
   "metadata": {
    "collapsed": false
   },
   "outputs": [
    {
     "data": {
      "text/plain": [
       "<matplotlib.text.Text at 0x25d6a8ec780>"
      ]
     },
     "execution_count": 18,
     "metadata": {},
     "output_type": "execute_result"
    },
    {
     "data": {
      "image/png": "[encoded data removed]",
      "text/plain": [
       "<matplotlib.figure.Figure at 0x25d6a8cee10>"
      ]
     },
     "metadata": {},
     "output_type": "display_data"
    }
   ],
   "source": [
    "\n",
    "my_plot = graph_bigram.unstack().plot(kind='bar',stacked=True,title=\"Sentiment Analysis based on the polarity-Pre-Demonetization\")\n",
    "my_plot.set_xlabel(\"Snetiments\")\n",
    "my_plot.set_ylabel(\"Tweet count\")\n",
    "\n",
    "\n"
   ]
  },
  {
   "cell_type": "code",
   "execution_count": null,
   "metadata": {
    "collapsed": true
   },
   "outputs": [],
   "source": []
  },
  {
   "cell_type": "raw",
   "metadata": {},
   "source": [
    "above graph is the tweets collected pre demonetization on Reliance jio.\n",
    "most of the comments made were of nuetral with approx couhnt of around 750\n",
    "there were about some 200 positive comments and around 100 negative comments."
   ]
  },
  {
   "cell_type": "code",
   "execution_count": 19,
   "metadata": {
    "collapsed": false
   },
   "outputs": [
    {
     "data": {
      "text/plain": [
       "<matplotlib.text.Text at 0x25d6a8cec18>"
      ]
     },
     "execution_count": 19,
     "metadata": {},
     "output_type": "execute_result"
    },
    {
     "data": {
      "image/png": "[encoded data removed]",
      "text/plain": [
       "<matplotlib.figure.Figure at 0x25d6a2615f8>"
      ]
     },
     "metadata": {},
     "output_type": "display_data"
    }
   ],
   "source": [
    "newticks = ['Nuteral','Positive','Negative']\n",
    "_ROTATION_DEGREES = 45\n",
    "\n",
    "b=sns.barplot(x=edited_bigram['Polarity'],y=edited_bigram['count'])\n",
    "b.set_xticklabels(newticks, rotation=_ROTATION_DEGREES)\n",
    "b.set_title('\"Sentiment Analysis based on the polarity-Pre-Demonetization\"')\n",
    "b.set_xlabel(\"Sentiments\")\n",
    "b.set_ylabel(\"No. of Tweets\")\n",
    "\n"
   ]
  }
 ],
 "metadata": {
  "anaconda-cloud": {},
  "kernelspec": {
   "display_name": "Python [default]",
   "language": "python",
   "name": "python3"
  },
  "language_info": {
   "codemirror_mode": {
    "name": "ipython",
    "version": 3
   },
   "file_extension": ".py",
   "mimetype": "text/x-python",
   "name": "python",
   "nbconvert_exporter": "python",
   "pygments_lexer": "ipython3",
   "version": "3.5.2"
  }
 },
 "nbformat": 4,
 "nbformat_minor": 1
}
